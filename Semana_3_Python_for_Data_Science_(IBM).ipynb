{
  "nbformat": 4,
  "nbformat_minor": 0,
  "metadata": {
    "colab": {
      "provenance": [],
      "authorship_tag": "ABX9TyM6+dleSWDCXWz8tT4UPHFJ",
      "include_colab_link": true
    },
    "kernelspec": {
      "name": "python3",
      "display_name": "Python 3"
    },
    "language_info": {
      "name": "python"
    }
  },
  "cells": [
    {
      "cell_type": "markdown",
      "metadata": {
        "id": "view-in-github",
        "colab_type": "text"
      },
      "source": [
        "<a href=\"https://colab.research.google.com/github/PosgradoMNA/actividades-de-aprendizaje-JersonDavidPerezContreras/blob/main/Semana_3_Python_for_Data_Science_(IBM).ipynb\" target=\"_parent\"><img src=\"https://colab.research.google.com/assets/colab-badge.svg\" alt=\"Open In Colab\"/></a>"
      ]
    },
    {
      "cell_type": "markdown",
      "source": [
        "#Semana 3: Python for Data Science (IBM)\n",
        "\n",
        "Jerson David Perez Contreras"
      ],
      "metadata": {
        "id": "oD6NVbIoY-gM"
      }
    },
    {
      "cell_type": "code",
      "source": [
        "#Numpy 1D Arrays\n",
        "import numpy as np\n",
        "#QUESTION 1\n",
        "\n",
        "np.array([1,-1])*np.array([1,1])"
      ],
      "metadata": {
        "colab": {
          "base_uri": "https://localhost:8080/"
        },
        "id": "X1sHj8iTZFCU",
        "outputId": "65d3b605-11dd-4f6a-c33a-736fc56eb5a2"
      },
      "execution_count": 2,
      "outputs": [
        {
          "output_type": "execute_result",
          "data": {
            "text/plain": [
              "array([ 1, -1])"
            ]
          },
          "metadata": {},
          "execution_count": 2
        }
      ]
    },
    {
      "cell_type": "code",
      "source": [
        "# Question 2\n",
        "\n",
        "np.dot(np.array([1,-1]),np.array([1,1]))"
      ],
      "metadata": {
        "colab": {
          "base_uri": "https://localhost:8080/"
        },
        "id": "En_ceO2wZjxM",
        "outputId": "0cda48b5-c42c-4a53-9ff8-485ab51851b7"
      },
      "execution_count": 3,
      "outputs": [
        {
          "output_type": "execute_result",
          "data": {
            "text/plain": [
              "0"
            ]
          },
          "metadata": {},
          "execution_count": 3
        }
      ]
    },
    {
      "cell_type": "code",
      "source": [
        "#Numpy 2D Arrays\n",
        "\n",
        "# Question 1\n",
        "A = np.array([[1,2],[3,4],[5,6],[7,8]])\n",
        "A"
      ],
      "metadata": {
        "colab": {
          "base_uri": "https://localhost:8080/"
        },
        "id": "RSoGqPVkZ49i",
        "outputId": "85f6df5f-5102-4e22-ceda-c4864ccab249"
      },
      "execution_count": 5,
      "outputs": [
        {
          "output_type": "execute_result",
          "data": {
            "text/plain": [
              "array([[1, 2],\n",
              "       [3, 4],\n",
              "       [5, 6],\n",
              "       [7, 8]])"
            ]
          },
          "metadata": {},
          "execution_count": 5
        }
      ]
    },
    {
      "cell_type": "code",
      "source": [
        "#Question 2\n",
        "A = np.array([[1,2],[3,4],[5,6],[7,8]])\n",
        "\n",
        "B = np.array([[1,2,3],[4,5,6],[7,8,9]])\n",
        "\n",
        "np.dot(A,B)  ## no ejecuta ya que ambos tiene deiferentes dimensiones"
      ],
      "metadata": {
        "id": "YskB3g7EaV9C"
      },
      "execution_count": null,
      "outputs": []
    },
    {
      "cell_type": "code",
      "source": [
        "#Review Questions\n",
        "\n",
        "#Pregunta 1\n",
        "\n",
        "a=np.array([0,1,0,1,0])\n",
        "\n",
        "b=np.array([1,0,1,0,1])\n",
        "\n",
        "a*b"
      ],
      "metadata": {
        "colab": {
          "base_uri": "https://localhost:8080/"
        },
        "id": "bWGAR_q3bgQy",
        "outputId": "221b3885-ffdb-4b4c-d24e-33f632f0ba34"
      },
      "execution_count": 7,
      "outputs": [
        {
          "output_type": "execute_result",
          "data": {
            "text/plain": [
              "array([0, 0, 0, 0, 0])"
            ]
          },
          "metadata": {},
          "execution_count": 7
        }
      ]
    },
    {
      "cell_type": "code",
      "source": [
        "#Pregunta 2\n",
        "a=np.array([0,1])\n",
        "\n",
        "b=np.array([1,0])\n",
        "\n",
        "np.dot(a,b)"
      ],
      "metadata": {
        "colab": {
          "base_uri": "https://localhost:8080/"
        },
        "id": "EfvLGsvSbqgq",
        "outputId": "8b9f95bd-e5a6-4398-a3f1-5da0c65228c5"
      },
      "execution_count": 8,
      "outputs": [
        {
          "output_type": "execute_result",
          "data": {
            "text/plain": [
              "0"
            ]
          },
          "metadata": {},
          "execution_count": 8
        }
      ]
    },
    {
      "cell_type": "code",
      "source": [
        "# Pregunta 3\n",
        "\n",
        "a=np.array([1,1,1,1,1])\n",
        "\n",
        "a+10"
      ],
      "metadata": {
        "colab": {
          "base_uri": "https://localhost:8080/"
        },
        "id": "vaRXawP4bvlT",
        "outputId": "8af005fc-5293-4e25-e3ee-52425c41eaaa"
      },
      "execution_count": 9,
      "outputs": [
        {
          "output_type": "execute_result",
          "data": {
            "text/plain": [
              "array([11, 11, 11, 11, 11])"
            ]
          },
          "metadata": {},
          "execution_count": 9
        }
      ]
    },
    {
      "cell_type": "code",
      "source": [
        "# Pregunta 4\n",
        "\n",
        "#np.dot para multiplicar matrices"
      ],
      "metadata": {
        "id": "YbNYXn4ucAe5"
      },
      "execution_count": null,
      "outputs": []
    },
    {
      "cell_type": "code",
      "source": [
        "# Examen final\n",
        "\n",
        "# pregunta 1\n",
        "\n",
        "3+2*2"
      ],
      "metadata": {
        "colab": {
          "base_uri": "https://localhost:8080/"
        },
        "id": "O7yjCEJucWwK",
        "outputId": "9b4191fa-e416-42b8-9a8d-b82a3156bf3b"
      },
      "execution_count": 10,
      "outputs": [
        {
          "output_type": "execute_result",
          "data": {
            "text/plain": [
              "7"
            ]
          },
          "metadata": {},
          "execution_count": 10
        }
      ]
    },
    {
      "cell_type": "code",
      "source": [
        "# pregunt 2\n",
        "type(True)"
      ],
      "metadata": {
        "colab": {
          "base_uri": "https://localhost:8080/"
        },
        "id": "NPiJequacfar",
        "outputId": "13a21050-bc9a-4929-c0a0-472b4f8d7297"
      },
      "execution_count": 11,
      "outputs": [
        {
          "output_type": "execute_result",
          "data": {
            "text/plain": [
              "bool"
            ]
          },
          "metadata": {},
          "execution_count": 11
        }
      ]
    },
    {
      "cell_type": "code",
      "source": [
        "# Pregunta 3\n",
        "int(3.2)"
      ],
      "metadata": {
        "colab": {
          "base_uri": "https://localhost:8080/"
        },
        "id": "COcnwYCZcqXS",
        "outputId": "97a4ef25-1905-409e-de87-be07b8a02a5b"
      },
      "execution_count": 12,
      "outputs": [
        {
          "output_type": "execute_result",
          "data": {
            "text/plain": [
              "3"
            ]
          },
          "metadata": {},
          "execution_count": 12
        }
      ]
    },
    {
      "cell_type": "code",
      "source": [
        "# Pregunta 4\n",
        "A='1234567'\n",
        "A[1::2]"
      ],
      "metadata": {
        "colab": {
          "base_uri": "https://localhost:8080/",
          "height": 36
        },
        "id": "QYbAAct-cw5j",
        "outputId": "25b4aea4-ff0c-4366-d5dd-a6983a96eac6"
      },
      "execution_count": 13,
      "outputs": [
        {
          "output_type": "execute_result",
          "data": {
            "text/plain": [
              "'246'"
            ],
            "application/vnd.google.colaboratory.intrinsic+json": {
              "type": "string"
            }
          },
          "metadata": {},
          "execution_count": 13
        }
      ]
    },
    {
      "cell_type": "code",
      "source": [
        "#Pregunta 5\n",
        "\n",
        "Name=\"Michael Jackson\"\n",
        "Name.find('el')"
      ],
      "metadata": {
        "colab": {
          "base_uri": "https://localhost:8080/"
        },
        "id": "ITjYDLL4c4OC",
        "outputId": "ed6b9735-9bfe-4370-c0d1-27c4dedad88e"
      },
      "execution_count": 14,
      "outputs": [
        {
          "output_type": "execute_result",
          "data": {
            "text/plain": [
              "5"
            ]
          },
          "metadata": {},
          "execution_count": 14
        }
      ]
    },
    {
      "cell_type": "code",
      "source": [
        "#Pregunta 6\n",
        "A='1'\n",
        "B='2'\n",
        "A+B"
      ],
      "metadata": {
        "colab": {
          "base_uri": "https://localhost:8080/",
          "height": 36
        },
        "id": "eQwGJ_wOc_i5",
        "outputId": "6ec54ccc-89d1-401b-aa31-e14123bb1e6c"
      },
      "execution_count": 15,
      "outputs": [
        {
          "output_type": "execute_result",
          "data": {
            "text/plain": [
              "'12'"
            ],
            "application/vnd.google.colaboratory.intrinsic+json": {
              "type": "string"
            }
          },
          "metadata": {},
          "execution_count": 15
        }
      ]
    },
    {
      "cell_type": "code",
      "source": [
        "#Pregunta 7\n",
        "F=\"You are wrong\"\n",
        "F= F.upper()\n",
        "F"
      ],
      "metadata": {
        "colab": {
          "base_uri": "https://localhost:8080/",
          "height": 36
        },
        "id": "huTPuS79dG_x",
        "outputId": "f004e1fe-89fa-41b5-8d9d-3b842d2afd0f"
      },
      "execution_count": 22,
      "outputs": [
        {
          "output_type": "execute_result",
          "data": {
            "text/plain": [
              "'YOU ARE WRONG'"
            ],
            "application/vnd.google.colaboratory.intrinsic+json": {
              "type": "string"
            }
          },
          "metadata": {},
          "execution_count": 22
        }
      ]
    },
    {
      "cell_type": "code",
      "source": [
        "# Pregunta 8\n",
        "tuple1=(\"A\",\"B\",\"C\" )\n",
        "tuple1[-1]"
      ],
      "metadata": {
        "colab": {
          "base_uri": "https://localhost:8080/",
          "height": 36
        },
        "id": "fUxP-lzKdc9p",
        "outputId": "8b94cc8f-3c9a-4424-852d-6968a8f275dd"
      },
      "execution_count": 23,
      "outputs": [
        {
          "output_type": "execute_result",
          "data": {
            "text/plain": [
              "'C'"
            ],
            "application/vnd.google.colaboratory.intrinsic+json": {
              "type": "string"
            }
          },
          "metadata": {},
          "execution_count": 23
        }
      ]
    },
    {
      "cell_type": "code",
      "source": [
        "#Pregunta 9\n",
        "\n",
        "A=((11,12),[21,22])\n",
        "A[1]"
      ],
      "metadata": {
        "colab": {
          "base_uri": "https://localhost:8080/"
        },
        "id": "Z9fJHK26dlXR",
        "outputId": "0fbbc0ca-9265-431b-ee10-d0dc369168e7"
      },
      "execution_count": 24,
      "outputs": [
        {
          "output_type": "execute_result",
          "data": {
            "text/plain": [
              "[21, 22]"
            ]
          },
          "metadata": {},
          "execution_count": 24
        }
      ]
    },
    {
      "cell_type": "code",
      "source": [
        "#Pregunta 10\n",
        "\n",
        "A=((11,12),[21,22])\n",
        "A[0][1]"
      ],
      "metadata": {
        "colab": {
          "base_uri": "https://localhost:8080/"
        },
        "id": "WzAyOHm2dsfx",
        "outputId": "c1956f33-b2ef-4e8f-e31d-542412d53237"
      },
      "execution_count": 26,
      "outputs": [
        {
          "output_type": "execute_result",
          "data": {
            "text/plain": [
              "12"
            ]
          },
          "metadata": {},
          "execution_count": 26
        }
      ]
    },
    {
      "cell_type": "code",
      "source": [
        "#Pregunta 11\n",
        "'1,2,3,4'.split(',')"
      ],
      "metadata": {
        "colab": {
          "base_uri": "https://localhost:8080/"
        },
        "id": "H5ABNWreeAgK",
        "outputId": "238cc345-9921-4814-b67c-ed5e38bc79e3"
      },
      "execution_count": 27,
      "outputs": [
        {
          "output_type": "execute_result",
          "data": {
            "text/plain": [
              "['1', '2', '3', '4']"
            ]
          },
          "metadata": {},
          "execution_count": 27
        }
      ]
    },
    {
      "cell_type": "code",
      "source": [
        "#Pregunta 12\n",
        "\n",
        "A=[1,'a']\n",
        "B=[2,1,'d']\n",
        "A+B"
      ],
      "metadata": {
        "colab": {
          "base_uri": "https://localhost:8080/"
        },
        "id": "KvEMP_RueMJB",
        "outputId": "edc2d857-7d73-44ae-fe2e-6bfe62867a34"
      },
      "execution_count": 28,
      "outputs": [
        {
          "output_type": "execute_result",
          "data": {
            "text/plain": [
              "[1, 'a', 2, 1, 'd']"
            ]
          },
          "metadata": {},
          "execution_count": 28
        }
      ]
    },
    {
      "cell_type": "code",
      "source": [
        "#pREGUNTA 13\n",
        "a=set(A)\n",
        "a"
      ],
      "metadata": {
        "colab": {
          "base_uri": "https://localhost:8080/"
        },
        "id": "eDYMV5o7exYB",
        "outputId": "30d85697-8be4-42b8-c66a-a72a96868a13"
      },
      "execution_count": 30,
      "outputs": [
        {
          "output_type": "execute_result",
          "data": {
            "text/plain": [
              "{1, 'a'}"
            ]
          },
          "metadata": {},
          "execution_count": 30
        }
      ]
    },
    {
      "cell_type": "code",
      "source": [
        "#Pregunta 14\n",
        "V={'A','B'}\n",
        "V.add('C')\n",
        "V"
      ],
      "metadata": {
        "colab": {
          "base_uri": "https://localhost:8080/"
        },
        "id": "ebb9ZUYOe48p",
        "outputId": "e1d6fe54-1e36-4883-9795-d3ed1aa9ab61"
      },
      "execution_count": 32,
      "outputs": [
        {
          "output_type": "execute_result",
          "data": {
            "text/plain": [
              "{'A', 'B', 'C'}"
            ]
          },
          "metadata": {},
          "execution_count": 32
        }
      ]
    },
    {
      "cell_type": "code",
      "source": [
        "#Pregunta 15\n",
        "\n",
        "V={'A','B','C' }\n",
        "V.add('C')\n",
        "V"
      ],
      "metadata": {
        "colab": {
          "base_uri": "https://localhost:8080/"
        },
        "id": "o1oNqwbifD0h",
        "outputId": "d4b80bb0-0679-4c91-f33e-af3ce9f1b67c"
      },
      "execution_count": 33,
      "outputs": [
        {
          "output_type": "execute_result",
          "data": {
            "text/plain": [
              "{'A', 'B', 'C'}"
            ]
          },
          "metadata": {},
          "execution_count": 33
        }
      ]
    },
    {
      "cell_type": "code",
      "source": [
        "#Pregunta 16\n",
        "\n",
        "x=\"Go\"\n",
        "\n",
        "if(x!=\"Go\"):\n",
        "\n",
        "  print('Stop')\n",
        "\n",
        "else:\n",
        "\n",
        "  print('Go ')\n",
        "\n",
        "print('Mike')\n",
        "\n"
      ],
      "metadata": {
        "colab": {
          "base_uri": "https://localhost:8080/"
        },
        "id": "4V7xhieUfRSY",
        "outputId": "91dc6cf0-2ba6-476c-8a65-2cf06f4d7799"
      },
      "execution_count": 34,
      "outputs": [
        {
          "output_type": "stream",
          "name": "stdout",
          "text": [
            "Go \n",
            "Mike\n"
          ]
        }
      ]
    },
    {
      "cell_type": "code",
      "source": [
        "# Pregunta 17\n",
        "\n",
        "x=\"Go\"\n",
        "\n",
        "if(x==\"Go\"):\n",
        "\n",
        "  print('Go ')\n",
        "\n",
        "else:\n",
        "\n",
        "  print('Stop')\n",
        "\n",
        "print('Mike')"
      ],
      "metadata": {
        "colab": {
          "base_uri": "https://localhost:8080/"
        },
        "id": "C8MzgEqufcRx",
        "outputId": "dfeaef0c-9664-4732-ef16-93e7e588aea2"
      },
      "execution_count": 35,
      "outputs": [
        {
          "output_type": "stream",
          "name": "stdout",
          "text": [
            "Go \n",
            "Mike\n"
          ]
        }
      ]
    },
    {
      "cell_type": "code",
      "source": [
        "#pregunta 18\n",
        "\n",
        "for n in range(3):\n",
        "\n",
        "  print(n)"
      ],
      "metadata": {
        "colab": {
          "base_uri": "https://localhost:8080/"
        },
        "id": "ppMYnqYbflmK",
        "outputId": "eb77f0e9-0775-4511-b9a5-1a7e0a66ec51"
      },
      "execution_count": 36,
      "outputs": [
        {
          "output_type": "stream",
          "name": "stdout",
          "text": [
            "0\n",
            "1\n",
            "2\n"
          ]
        }
      ]
    },
    {
      "cell_type": "code",
      "source": [
        "# Pregunta 19\n",
        "\n",
        "for n in range(3):\n",
        "\n",
        "  print(n+1)"
      ],
      "metadata": {
        "colab": {
          "base_uri": "https://localhost:8080/"
        },
        "id": "xFj3m76vftRp",
        "outputId": "13957fff-6ba4-42b4-9937-bf9512723caf"
      },
      "execution_count": 37,
      "outputs": [
        {
          "output_type": "stream",
          "name": "stdout",
          "text": [
            "1\n",
            "2\n",
            "3\n"
          ]
        }
      ]
    },
    {
      "cell_type": "code",
      "source": [
        "#Pregunta 20\n",
        "\n",
        "A=['1','2','3']\n",
        "\n",
        "for a in A:\n",
        "\n",
        "  print(2*a)"
      ],
      "metadata": {
        "colab": {
          "base_uri": "https://localhost:8080/"
        },
        "id": "TABd0UBnfz9h",
        "outputId": "67dbe8f2-7e78-43e2-9fb1-ff4b4bfdd8fe"
      },
      "execution_count": 38,
      "outputs": [
        {
          "output_type": "stream",
          "name": "stdout",
          "text": [
            "11\n",
            "22\n",
            "33\n"
          ]
        }
      ]
    },
    {
      "cell_type": "code",
      "source": [
        "# Pregunta 21\n",
        "\n",
        "def Add(x,y):\n",
        "\n",
        "  z=y+x\n",
        "\n",
        "  return(y)\n",
        "Add('1','1')"
      ],
      "metadata": {
        "colab": {
          "base_uri": "https://localhost:8080/",
          "height": 36
        },
        "id": "eKlG4z9If_ca",
        "outputId": "178c0785-b14d-4b0c-ba2f-5bacbaaed3d5"
      },
      "execution_count": 39,
      "outputs": [
        {
          "output_type": "execute_result",
          "data": {
            "text/plain": [
              "'1'"
            ],
            "application/vnd.google.colaboratory.intrinsic+json": {
              "type": "string"
            }
          },
          "metadata": {},
          "execution_count": 39
        }
      ]
    },
    {
      "cell_type": "code",
      "source": [
        "#Pregunta 22\n",
        "class Points(object):\n",
        "\n",
        "  def __init__(self,x,y):\n",
        "\n",
        "    self.x=x\n",
        "\n",
        "    self.y=y\n",
        "\n",
        "  def print_point(self):\n",
        "\n",
        "    print('x=',self.x,'y=',self.y)\n",
        "\n",
        "# Atributos self.x and self.y"
      ],
      "metadata": {
        "id": "g4FpGoHfgJgJ"
      },
      "execution_count": 40,
      "outputs": []
    },
    {
      "cell_type": "code",
      "source": [
        "# Pregunta 23\n",
        "\n",
        "class Points(object):\n",
        "\n",
        "  def __init__(self,x,y):\n",
        "\n",
        "    self.x=x\n",
        "\n",
        "    self.y=y\n",
        "\n",
        "  def print_point(self):\n",
        "\n",
        "    print('x=',self.x,' y=',self.y)\n",
        "\n",
        "p1=Points(1,2)\n",
        "\n",
        "p1.print_point()"
      ],
      "metadata": {
        "colab": {
          "base_uri": "https://localhost:8080/"
        },
        "id": "1NhFpFdYgbUC",
        "outputId": "0ca134bc-49c6-41b9-99b1-d0d2eb5b796e"
      },
      "execution_count": 41,
      "outputs": [
        {
          "output_type": "stream",
          "name": "stdout",
          "text": [
            "x= 1  y= 2\n"
          ]
        }
      ]
    },
    {
      "cell_type": "code",
      "source": [
        "#Pregunta 24\n",
        "\n",
        "class Points(object):\n",
        "\n",
        "  def __init__(self,x,y):\n",
        "\n",
        "    self.x=x\n",
        "\n",
        "    self.y=y\n",
        "\n",
        "  def print_point(self):\n",
        "\n",
        "    print('x=',self.x,' y=',self.y)\n",
        "\n",
        "p2=Points(1,2)\n",
        "\n",
        "p2.x=2\n",
        "\n",
        "p2.print_point()"
      ],
      "metadata": {
        "colab": {
          "base_uri": "https://localhost:8080/"
        },
        "id": "Mm070Xnigmcw",
        "outputId": "b4a60db5-2e32-47c6-acc8-bd06cbbe40e0"
      },
      "execution_count": 42,
      "outputs": [
        {
          "output_type": "stream",
          "name": "stdout",
          "text": [
            "x= 2  y= 2\n"
          ]
        }
      ]
    },
    {
      "cell_type": "code",
      "source": [
        "# Pregunta 25\n",
        "\n",
        "## with open(example1,\"r\") as file1  aBRE EN MODO LECTURA UN ARCHIVO"
      ],
      "metadata": {
        "id": "-_aeYDpGgzDw"
      },
      "execution_count": null,
      "outputs": []
    }
  ]
}