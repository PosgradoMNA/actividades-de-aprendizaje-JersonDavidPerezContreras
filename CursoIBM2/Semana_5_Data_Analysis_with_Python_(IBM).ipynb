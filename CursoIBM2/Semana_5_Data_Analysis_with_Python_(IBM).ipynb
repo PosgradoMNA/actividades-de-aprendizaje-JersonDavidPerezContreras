{
  "nbformat": 4,
  "nbformat_minor": 0,
  "metadata": {
    "colab": {
      "provenance": [],
      "authorship_tag": "ABX9TyPlVmZ+pOWVl0HIc78pUpBj",
      "include_colab_link": true
    },
    "kernelspec": {
      "name": "python3",
      "display_name": "Python 3"
    },
    "language_info": {
      "name": "python"
    }
  },
  "cells": [
    {
      "cell_type": "markdown",
      "metadata": {
        "id": "view-in-github",
        "colab_type": "text"
      },
      "source": [
        "<a href=\"https://colab.research.google.com/github/PosgradoMNA/actividades-de-aprendizaje-JersonDavidPerezContreras/blob/main/CursoIBM2/Semana_5_Data_Analysis_with_Python_(IBM).ipynb\" target=\"_parent\"><img src=\"https://colab.research.google.com/assets/colab-badge.svg\" alt=\"Open In Colab\"/></a>"
      ]
    },
    {
      "cell_type": "markdown",
      "source": [
        "\n",
        "#Semana 5: Data Analysis with Python (IBM)\n",
        "\n",
        "Jerson David Perez Contreras\n",
        "\n",
        "A01793810\n",
        "\n",
        "# Notebooks\n",
        "\n",
        "##Pre-Processing Data in Python 2\n",
        "\n",
        "Procesar la Data consiste en limpiar una base de datos mediante diferentes técnicas con el fin de obtener una base limpia y lista para analizar.\n",
        "Las diferentes técnicas buscan maneja los valores faltantes o nulos, formatear datos, realizar normalizaciones para hacer comparables los datos y realizar agrupamientos e identificar variables a categóricas.\n",
        "\n",
        "##Dealing with missing values in Python\n",
        "\n",
        "¿Los valores faltantes suelen aparecer en la base de datos como datos representados por ?, \"N/A\", O o celdas vacías. \n",
        "\n",
        "Para tratar los valores perdidos se pueden realizar diferentes métodos dependiendo de la situación, por ejemplo, se debería intentar en primera instancia si la fuente de origen no puede rescatar los valores perdidos, otra opción es eliminar los datos donde se encuentre valores faltantes si estos no tienen muchas observaciones que pueden generar impacto, otra opción es reemplazar los valores perdidos por valores promedios o también simplemente trabajar con ellos si el análisis lo permite.\n",
        "\n",
        "Df. dropna () eliminar observaciones de valores perdidos, argumento inplace= true reemplaza la dataframe original con la función aplicada.\n",
        "\n",
        "DF. replace (missinVaue, newValue) Nos permite reemplazar valores, con esta función podemos reemplazar los vacíos por el promedio.\n",
        "\n",
        "\n",
        "##Data Formatting in Python\n",
        "\n",
        "El formateo de datos consiste en llevar los datos a expresiones estándar que permita a los usuarios hacer comparaciones consistentes, además de garantizar que los datos sean consistentes y fácilmente compresible.\n",
        "\n",
        "Por ejemplo, adaptar ciertos datos de un país a otro al manejar deferentes medidas como la velocidad, el peso, las longitudes la hora etc. se pueden utilizar las funciones head o tail para explorar como están los datos y definir si se requiere algunas transformaciones.\n",
        "\n",
        "## Data Normalization in Python\n",
        "\n",
        "la normalización permite que los rangos de los datos sean más consistentes entre variables y esto permite una mejor comparación.\n",
        "\n",
        "Por ejemplo, si tenemos dos variables edad e ingresos, estos suelen estar en rangos muy diferentes, y al hacer un análisis de regresión lineal, la variable ingreso es la más representativa, sesgando así el modelo, de aquí la importancia de normalizar y hacer las variables comparables.\n",
        "\n",
        "Métodos:\n",
        "\n",
        "Escalado de características simple: Divide cada valor por le máximo valor, haciendo que los alores oscilen entre 0 a 1.\n",
        "\n",
        "Min-Max: toma el valor le resta el mínimo valor y lo divide en el rango de los valores, los valores resultantes oscilan entre 0 a 1,\n",
        "\n",
        "Puntuación Z:  toma el valor le resta el promedio y lo divide en la desviación, el valor resultante oscila entre -3 a 3.\n",
        "\n",
        "\n",
        "##Binning in Python\n",
        "\n",
        "busca agrupar o convertir variables numéricas en categóricas como la edad en diferentes rangos de edades, esto puede genera una mejor precisión en los modelos, a partir de los datos numéricos se pueden determinar mediante técnicas estadísticas como los clústeres que nos puede dar una mejor idea de agrupamientos con valores similares.\n",
        "\n",
        "## Turning categorical variables into quantitative variables in Python\n",
        "\n",
        "Algunos modelos predictivos que se aplican exigen entradas de datos numéricas, por esta razón se requiere transformar las variables de tipo cualitativas a cuantitativas. una forma es transponer cada característica de la variable cuantitativa y a una nueva variable, aplicando 0 y 1 cuando esta aplica. \n",
        "\n",
        "En Python se puede utilizar la función .get_dimmies()\n",
        "\n",
        "\n",
        "\n",
        "\n",
        "\n"
      ],
      "metadata": {
        "id": "e75ZZuVag8SJ"
      }
    },
    {
      "cell_type": "markdown",
      "source": [
        "#Graded Review Questions\n",
        "\n",
        "##Question 1\n",
        "\n",
        "Consider the dataframe df. What is the result of the following operation: df['symbolling'] = df['symbolling'] + 1?\n",
        "\n",
        "RTA: Every element in the column \"symbolling\" will increase by one.\n",
        "\n",
        "\n",
        "##Question 2\n",
        "\n",
        "\n",
        "Consider the dataframe df. What does the command df.rename(columns={'a':'b'}) change about the dataframe df?\n",
        "\n",
        "rta: Nothing. You must set the parameter \"inplace = True\".\n",
        "\n",
        "##Question 3\n",
        "\n",
        "Consider the dataframe \"df\". What is the result of the following operation df['price'] = df['price'].astype(int)?\n",
        "\n",
        "RTA: Convert or cast the column 'price' to an integer value.\n",
        "\n",
        "##Question 4\n",
        "\n",
        "Consider the column of the dataframe df['a']. The column has been standardized. What is the standard deviation of the values as a result of applying the following operation: df['a'].std()?\n",
        "\n",
        "\n",
        "rta: 1\n",
        "\n",
        "\n",
        "##Question 5  A)\n",
        "\n",
        "Consider the column of the dataframe, df['Fuel'], with two values: 'gas' and' diesel'. What will be the name of the new columns pd.get_dumies(df['Fuel']) ?\n",
        "\n",
        "rta: 'gas' and 'diesel'\n",
        "\n",
        "## Question 5 b)\n",
        "\n",
        "What are the values of the new columns from part 5a)?\n",
        "\n",
        "RTA: 1 and 0"
      ],
      "metadata": {
        "id": "aELlcso1y7nG"
      }
    }
  ]
}