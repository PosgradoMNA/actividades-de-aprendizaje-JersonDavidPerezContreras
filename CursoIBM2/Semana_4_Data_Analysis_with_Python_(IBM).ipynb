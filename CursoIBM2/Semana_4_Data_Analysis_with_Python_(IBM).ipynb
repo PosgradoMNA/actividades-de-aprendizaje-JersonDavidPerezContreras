{
  "nbformat": 4,
  "nbformat_minor": 0,
  "metadata": {
    "colab": {
      "provenance": [],
      "authorship_tag": "ABX9TyMU//5+aX+Xzp5ZIORyWEHg",
      "include_colab_link": true
    },
    "kernelspec": {
      "name": "python3",
      "display_name": "Python 3"
    },
    "language_info": {
      "name": "python"
    }
  },
  "cells": [
    {
      "cell_type": "markdown",
      "metadata": {
        "id": "view-in-github",
        "colab_type": "text"
      },
      "source": [
        "<a href=\"https://colab.research.google.com/github/PosgradoMNA/actividades-de-aprendizaje-JersonDavidPerezContreras/blob/main/CursoIBM2/Semana_4_Data_Analysis_with_Python_(IBM).ipynb\" target=\"_parent\"><img src=\"https://colab.research.google.com/assets/colab-badge.svg\" alt=\"Open In Colab\"/></a>"
      ]
    },
    {
      "cell_type": "markdown",
      "source": [
        "\n",
        "#Semana 4: Data Analysis with Python (IBM)\n",
        "\n",
        "Jerson David Perez Contreras\n",
        "\n",
        "# Pregunta ¿se puede estimar el valor de un automovil a partir de ciertas variables y caracteristicas?\n",
        "\n",
        "#Librerias\n",
        "\n",
        "Pandas: Estrutura y herramientas de datos\n",
        "\n",
        "Numpy: manejo de Arrays y Matrices\n",
        "\n",
        "Scipy: optimizacion, integrales y solucion de ecuaciones diferenciales\n",
        "\n",
        "Matplotlib: visualizacion y graficas\n",
        "\n",
        "Seaborn: graficas con series de tiempos, mapas de calor y mas graficas avanzadas\n",
        "\n",
        "Scikit-learn: Apredizaje automaticos, clasificaciones, regresiones\n",
        "\n",
        "Statsmodels: exploracion de datos, modelos y simulacions estadisticas.\n",
        "\n",
        "\n",
        "\n",
        "#Graded Review Questions\n",
        "\n",
        "##Question 1\n",
        "\n",
        "What does CSV stand for?\n",
        "\n",
        "Rta: Comma-separated values\n",
        "\n",
        "##Question 2\n",
        "\n",
        "In the data set, which of the following represents an attribute or feature?\n",
        "\n",
        "Rta: Column\n",
        "\n",
        "##Question 3\n",
        "\n",
        "What is the name of what we want to predict?\n",
        "\n",
        "Rta: Target\n",
        "\n",
        "##Question 4\n",
        "\n",
        "What is the command to display the first five rows of a dataframe df?\n",
        "\n",
        "Rta: df.head()\n",
        "\n",
        "##Question 5\n",
        "\n",
        "What command do you use to get the data type of each row of the dataframe df?\n",
        "\n",
        "Rta: df.dtypes\n",
        "\n",
        "##Question 6\n",
        "\n",
        "How do you get a statistical summary of a dataframe df?\n",
        "\n",
        "Rta: df.describe()\n",
        "\n",
        "Question 7\n",
        "\n",
        "If you use the method describe() without changing any of the arguments, you will get a statistical summary of all the columns of type \"object\".\n",
        "\n",
        "Rta: False\n",
        "\n"
      ],
      "metadata": {
        "id": "nfgt9owCgoQT"
      }
    },
    {
      "cell_type": "code",
      "source": [],
      "metadata": {
        "id": "o0tMi1Pbgu4D"
      },
      "execution_count": null,
      "outputs": []
    }
  ]
}