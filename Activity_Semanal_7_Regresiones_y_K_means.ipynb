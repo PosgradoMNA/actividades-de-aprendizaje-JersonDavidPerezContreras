{
  "nbformat": 4,
  "nbformat_minor": 0,
  "metadata": {
    "colab": {
      "provenance": [],
      "authorship_tag": "ABX9TyONO71ZMbSBe+yrtFpRXd9k",
      "include_colab_link": true
    },
    "kernelspec": {
      "name": "python3",
      "display_name": "Python 3"
    },
    "language_info": {
      "name": "python"
    }
  },
  "cells": [
    {
      "cell_type": "markdown",
      "metadata": {
        "id": "view-in-github",
        "colab_type": "text"
      },
      "source": [
        "<a href=\"https://colab.research.google.com/github/PosgradoMNA/actividades-de-aprendizaje-JersonDavidPerezContreras/blob/main/Activity_Semanal_7_Regresiones_y_K_means.ipynb\" target=\"_parent\"><img src=\"https://colab.research.google.com/assets/colab-badge.svg\" alt=\"Open In Colab\"/></a>"
      ]
    },
    {
      "cell_type": "markdown",
      "source": [
        "\n",
        "# TECNOLOGICO DE MONTEREY\n",
        "\n",
        "\n",
        "\n",
        "\n",
        "\n",
        "#Maestria en inteligencia artificial aplicada\n",
        "\n",
        "\n",
        "\n",
        "\n",
        "\n",
        "##Ciencia y Analitica de datos\n",
        "\n",
        "\n",
        "##Activity Semanal -- 7 Regresiones y K means\n",
        "\n",
        "\n",
        "\n",
        "## Profesora:\n",
        "\n",
        "María de la Paz Rico Fernández\n",
        "\n",
        "\n",
        "\n",
        "\n",
        "\n",
        "# Presentado por: \n",
        "\n",
        "Jerson David Perez Contreras\n",
        "\n",
        "A01793810\n",
        "\n",
        "Liga Git: "
      ],
      "metadata": {
        "id": "aeYb-yRW67hx"
      }
    }
  ]
}