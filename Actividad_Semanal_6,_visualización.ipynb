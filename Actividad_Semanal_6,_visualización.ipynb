{
  "nbformat": 4,
  "nbformat_minor": 0,
  "metadata": {
    "colab": {
      "provenance": [],
      "authorship_tag": "ABX9TyNUiwf3S6LtRz35JRf5sEN1",
      "include_colab_link": true
    },
    "kernelspec": {
      "name": "python3",
      "display_name": "Python 3"
    },
    "language_info": {
      "name": "python"
    }
  },
  "cells": [
    {
      "cell_type": "markdown",
      "metadata": {
        "id": "view-in-github",
        "colab_type": "text"
      },
      "source": [
        "<a href=\"https://colab.research.google.com/github/PosgradoMNA/actividades-de-aprendizaje-JersonDavidPerezContreras/blob/main/Actividad_Semanal_6%2C_visualizaci%C3%B3n.ipynb\" target=\"_parent\"><img src=\"https://colab.research.google.com/assets/colab-badge.svg\" alt=\"Open In Colab\"/></a>"
      ]
    },
    {
      "cell_type": "markdown",
      "source": [
        "\n",
        "\n",
        "# TECNOLOGICO DE MONTEREY\n",
        "\n",
        "\n",
        "\n",
        "\n",
        "\n",
        "#Maestria en inteligencia artificial aplicada\n",
        "\n",
        "\n",
        "\n",
        "\n",
        "\n",
        "##Ciencia y Analitica de datos\n",
        "\n",
        "\n",
        "\n",
        "\n",
        "\n",
        "## Profesora:\n",
        "\n",
        "María de la Paz Rico Fernández\n",
        "\n",
        "\n",
        "\n",
        "\n",
        "\n",
        "# Presentado por: \n",
        "\n",
        "Jerson David Perez Contreras\n",
        "\n",
        "A01793810\n",
        "\n"
      ],
      "metadata": {
        "id": "-rGxPWJ0IskA"
      }
    },
    {
      "cell_type": "code",
      "source": [
        "# lIBRERIAS\n",
        "\n",
        "import pandas as pd\n",
        "import numpy as np\n",
        "import matplotlib.pyplot as plt\n",
        "import seaborn as sns\n",
        "from sklearn.preprocessing import RobustScaler, MinMaxScaler, StandardScaler\n",
        "from sklearn.decomposition import PCA\n",
        "\n",
        "df = pd.read_csv('https://raw.githubusercontent.com/PosgradoMNA/Actividades_Aprendizaje-/main/default%20of%20credit%20card%20clients.csv')\n",
        "col_names = ['ID', 'Amount of the given credit', 'Gender', 'Education', 'Marital status', 'Age', 'the repayment status in September', 'the repayment status in August', \n",
        "       'the repayment status in July', 'the repayment status in June', 'the repayment status in May', 'the repayment status in April',\n",
        "       'Amount of bill statement in September, 2005', 'Amount of bill statement in August, 2005', 'Amount of bill statement in July, 2005', \n",
        "       'Amount of bill statement in June, 2005', 'Amount of bill statement in May, 2005', 'Amount of bill statement in April, 2005',\n",
        "       'Amount paid in September, 2005', 'Amount paid in August, 2005', 'Amount paid in July, 2005', 'Amount paid in June, 2005', 'Amount paid in May, 2005',\n",
        "       'Amount paid in April, 2005', 'Class']\n",
        "df.columns = col_names"
      ],
      "metadata": {
        "id": "DKRLOASBIw2S"
      },
      "execution_count": null,
      "outputs": []
    }
  ]
}